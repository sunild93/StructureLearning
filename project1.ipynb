{
 "cells": [
  {
   "cell_type": "code",
   "execution_count": 1,
   "metadata": {
    "collapsed": false
   },
   "outputs": [
    {
     "name": "stderr",
     "output_type": "stream",
     "text": [
      "Warning: New definition \n",
      "    +(AbstractArray{T,N},DataArray{T,N}) at /home/sunil/.julia/v0.3/DataArrays/src/operators.jl:326\n",
      "is ambiguous with: \n",
      "    +(AbstractImageDirect{T,N},AbstractArray{T,N}) at /home/sunil/.julia/v0.3/Images/src/algorithms.jl:18.\n",
      "To fix, define \n",
      "    +(AbstractImageDirect{T,N},DataArray{T,N})\n",
      "before the new definition.\n",
      "Warning: New definition \n",
      "    +(AbstractArray{T,N},AbstractDataArray{T,N}) at /home/sunil/.julia/v0.3/DataArrays/src/operators.jl:349\n",
      "is ambiguous with: \n",
      "    +(AbstractImageDirect{T,N},AbstractArray{T,N}) at /home/sunil/.julia/v0.3/Images/src/algorithms.jl:18.\n",
      "To fix, define \n",
      "    +(AbstractImageDirect{T,N},AbstractDataArray{T,N})\n",
      "before the new definition.\n",
      "Warning: New definition \n",
      "    -(AbstractArray{T,N},DataArray{T,N}) at /home/sunil/.julia/v0.3/DataArrays/src/operators.jl:326\n",
      "is ambiguous with: \n",
      "    -(AbstractImageDirect{T,N},AbstractArray{T,N}) at /home/sunil/.julia/v0.3/Images/src/algorithms.jl:35.\n",
      "To fix, define \n",
      "    -(AbstractImageDirect{T,N},DataArray{T,N})\n",
      "before the new definition.\n",
      "Warning: New definition \n",
      "    -(AbstractDataArray{T,N},AbstractArray{T,N}) at /home/sunil/.julia/v0.3/DataArrays/src/operators.jl:349\n",
      "is ambiguous with: \n",
      "    -(AbstractArray{T,N},AbstractImageDirect{T,N}) at /home/sunil/.julia/v0.3/Images/src/algorithms.jl:37.\n",
      "To fix, define \n",
      "    -(AbstractDataArray{T,N},AbstractImageDirect{T,N})\n",
      "before the new definition.\n",
      "Warning: New definition \n",
      "    -(AbstractArray{T,N},AbstractDataArray{T,N}) at /home/sunil/.julia/v0.3/DataArrays/src/operators.jl:349\n",
      "is ambiguous with: \n",
      "    -(AbstractImageDirect{T,N},AbstractArray{T,N}) at /home/sunil/.julia/v0.3/Images/src/algorithms.jl:35.\n",
      "To fix, define \n",
      "    -(AbstractImageDirect{T,N},AbstractDataArray{T,N})\n",
      "before the new definition.\n",
      "Warning: New definition \n",
      "    .*(Union(DataArray{T,N},PooledDataArray{T,R<:Integer,N}),AbstractArray{T,N}...) at /home/sunil/.julia/v0.3/DataArrays/src/broadcast.jl:282\n",
      "is ambiguous with: \n",
      "    .*(AbstractArray{T,N},AbstractImageDirect{T,N}) at /home/sunil/.julia/v0.3/Images/src/algorithms.jl:52.\n",
      "To fix, define \n",
      "    .*(Union(DataArray{T,N},PooledDataArray{T,R<:Integer,N}),AbstractImageDirect{T,N})\n",
      "before the new definition.\n",
      "Warning: New definition \n",
      "    .*(AbstractArray{T,N},Union(DataArray{T,N},PooledDataArray{T,R<:Integer,N}),AbstractArray{T,N}...) at /home/sunil/.julia/v0.3/DataArrays/src/broadcast.jl:282\n",
      "is ambiguous with: \n",
      "    .*(AbstractImageDirect{T,N},AbstractArray{T,N}) at /home/sunil/.julia/v0.3/Images/src/algorithms.jl:51.\n",
      "To fix, define \n",
      "    .*(AbstractImageDirect{T,N},Union(DataArray{T,N},PooledDataArray{T,R<:Integer,N}))\n",
      "before the new definition.\n",
      "Warning: New definition \n",
      "    .+(AbstractArray{T,N},Union(DataArray{T,N},PooledDataArray{T,R<:Integer,N}),AbstractArray{T,N}...) at /home/sunil/.julia/v0.3/DataArrays/src/broadcast.jl:284\n",
      "is ambiguous with: \n",
      "    .+(AbstractImageDirect{T,N},AbstractArray{T,N}) at /home/sunil/.julia/v0.3/Images/src/algorithms.jl:22.\n",
      "To fix, define \n",
      "    .+(AbstractImageDirect{T,N},Union(DataArray{T,N},PooledDataArray{T,R<:Integer,N}))\n",
      "before the new definition.\n",
      "Warning: New definition \n",
      "    .-(AbstractArray{T,N},Union(DataArray{T,N},PooledDataArray{T,R<:Integer,N})) at /home/sunil/.julia/v0.3/DataArrays/src/broadcast.jl:272\n",
      "is ambiguous with: \n",
      "    .-(AbstractImageDirect{T,N},AbstractArray{T,N}) at /home/sunil/.julia/v0.3/Images/src/algorithms.jl:40.\n",
      "To fix, define \n",
      "    .-(AbstractImageDirect{T,N},Union(DataArray{T,N},PooledDataArray{T,R<:Integer,N}))\n",
      "before the new definition.\n",
      "Warning: New definition \n",
      "    ./(AbstractArray{T,N},Union(DataArray{T,N},PooledDataArray{T,R<:Integer,N})) at /home/sunil/.julia/v0.3/DataArrays/src/broadcast.jl:272\n",
      "is ambiguous with: \n",
      "    ./(AbstractImageDirect{T,N},AbstractArray{T,N}) at /home/sunil/.julia/v0.3/Images/src/algorithms.jl:55.\n",
      "To fix, define \n",
      "    ./(AbstractImageDirect{T,N},Union(DataArray{T,N},PooledDataArray{T,R<:Integer,N}))\n",
      "before the new definition.\n",
      "Warning: New definition \n",
      "    .==(AbstractArray{Bool,N},Union(DataArray{Bool,N},PooledDataArray{Bool,R<:Integer,N})) at /home/sunil/.julia/v0.3/DataArrays/src/broadcast.jl:317\n",
      "is ambiguous with: \n",
      "    .==(AbstractImageDirect{Bool,N},AbstractArray{Bool,N}) at /home/sunil/.julia/v0.3/Images/src/algorithms.jl:133.\n",
      "To fix, define \n",
      "    .==(AbstractImageDirect{Bool,N},Union(DataArray{Bool,N},PooledDataArray{Bool,R<:Integer,N}))\n",
      "before the new definition.\n",
      "Warning: New definition \n",
      "    .==(AbstractArray{T,N},Union(DataArray{T,N},PooledDataArray{T,R<:Integer,N})) at /home/sunil/.julia/v0.3/DataArrays/src/broadcast.jl:272\n",
      "is ambiguous with: \n",
      "    .==(AbstractImageDirect{Bool,N},AbstractArray{Bool,N}) at /home/sunil/.julia/v0.3/Images/src/algorithms.jl:133.\n",
      "To fix, define \n",
      "    .==(AbstractImageDirect{Bool,N},Union(DataArray{Bool,N},PooledDataArray{Bool,R<:Integer,N}))\n",
      "before the new definition.\n",
      "Warning: New definition \n",
      "    .==(AbstractArray{T,N},Union(DataArray{T,N},PooledDataArray{T,R<:Integer,N})) at /home/sunil/.julia/v0.3/DataArrays/src/broadcast.jl:272\n",
      "is ambiguous with: \n",
      "    .==(AbstractImageDirect{T,N},AbstractArray{T,N}) at /home/sunil/.julia/v0.3/Images/src/algorithms.jl:134.\n",
      "To fix, define \n",
      "    .==(AbstractImageDirect{T,N},Union(DataArray{T,N},PooledDataArray{T,R<:Integer,N}))\n",
      "before the new definition.\n",
      "Warning: New definition \n",
      "    .>(AbstractArray{Bool,N},Union(DataArray{Bool,N},PooledDataArray{Bool,R<:Integer,N})) at /home/sunil/.julia/v0.3/DataArrays/src/broadcast.jl:317\n",
      "is ambiguous with: \n",
      "    .>(AbstractImageDirect{T,N},AbstractArray{T,N}) at /home/sunil/.julia/v0.3/Images/src/algorithms.jl:131.\n",
      "To fix, define \n",
      "    .>(AbstractImageDirect{Bool,N},Union(DataArray{Bool,N},PooledDataArray{Bool,R<:Integer,N}))\n",
      "before the new definition.\n",
      "Warning: New definition \n",
      "    .>(AbstractArray{T,N},Union(DataArray{T,N},PooledDataArray{T,R<:Integer,N})) at /home/sunil/.julia/v0.3/DataArrays/src/broadcast.jl:272\n",
      "is ambiguous with: \n",
      "    .>(AbstractImageDirect{T,N},AbstractArray{T,N}) at /home/sunil/.julia/v0.3/Images/src/algorithms.jl:131.\n",
      "To fix, define \n",
      "    .>(AbstractImageDirect{T,N},Union(DataArray{T,N},PooledDataArray{T,R<:Integer,N}))\n",
      "before the new definition.\n",
      "Warning: New definition \n",
      "    .<(AbstractArray{Bool,N},Union(DataArray{Bool,N},PooledDataArray{Bool,R<:Integer,N})) at /home/sunil/.julia/v0.3/DataArrays/src/broadcast.jl:317\n",
      "is ambiguous with: \n",
      "    .<(AbstractImageDirect{Bool,N},AbstractArray{Bool,N}) at /home/sunil/.julia/v0.3/Images/src/algorithms.jl:129.\n",
      "To fix, define \n",
      "    .<(AbstractImageDirect{Bool,N},Union(DataArray{Bool,N},PooledDataArray{Bool,R<:Integer,N}))\n",
      "before the new definition.\n",
      "Warning: New definition \n",
      "    .<(AbstractArray{T,N},Union(DataArray{T,N},PooledDataArray{T,R<:Integer,N})) at /home/sunil/.julia/v0.3/DataArrays/src/broadcast.jl:272\n",
      "is ambiguous with: \n",
      "    .<(AbstractImageDirect{Bool,N},AbstractArray{Bool,N}) at /home/sunil/.julia/v0.3/Images/src/algorithms.jl:129.\n",
      "To fix, define \n",
      "    .<(AbstractImageDirect{Bool,N},Union(DataArray{Bool,N},PooledDataArray{Bool,R<:Integer,N}))\n",
      "before the new definition.\n",
      "Warning: New definition \n",
      "    .<(AbstractArray{T,N},Union(DataArray{T,N},PooledDataArray{T,R<:Integer,N})) at /home/sunil/.julia/v0.3/DataArrays/src/broadcast.jl:272\n",
      "is ambiguous with: \n",
      "    .<(AbstractImageDirect{T,N},AbstractArray{T,N}) at /home/sunil/.julia/v0.3/Images/src/algorithms.jl:130.\n",
      "To fix, define \n",
      "    .<(AbstractImageDirect{T,N},Union(DataArray{T,N},PooledDataArray{T,R<:Integer,N}))\n",
      "before the new definition.\n"
     ]
    }
   ],
   "source": [
    "# imports\n",
    "using PGFPlots\n",
    "using Distributions\n",
    "using BayesNets\n",
    "using DataFrames"
   ]
  },
  {
   "cell_type": "code",
   "execution_count": 2,
   "metadata": {
    "collapsed": false
   },
   "outputs": [
    {
     "data": {
      "text/plain": [
       "DataFrame (constructor with 11 methods)"
      ]
     },
     "execution_count": 2,
     "metadata": {},
     "output_type": "execute_result"
    }
   ],
   "source": [
    "data_small = readtable(\"small.csv\");\n",
    "nodes = names(data_small);\n",
    "b = BayesNet(nodes)\n",
    "score = logBayesScore(b,data_small)\n",
    "b.names\n",
    "table(b,:grades)\n",
    "typeof(data_small)"
   ]
  },
  {
   "cell_type": "code",
   "execution_count": 7,
   "metadata": {
    "collapsed": false
   },
   "outputs": [
    {
     "name": "stdout",
     "output_type": "stream",
     "text": [
      "Adding score to gre: -26343.043635149967 from parent: quals\n",
      "gre <=== quals \n",
      "Adding score to gre: -26131.51689749801 from parent: grades\n",
      "gre <=== grades \n",
      "Adding score to quals: -25675.134479808003 from parent: grades\n",
      "quals <=== grades \n"
     ]
    }
   ],
   "source": [
    "G = deepcopy(b);\n",
    "data  = data_small\n",
    "# K2 search algorithm\n",
    "# function K2(G::BayesNet , data::DataFrame)\n",
    "nodeList_orig = G.names\n",
    "\n",
    "random = true; # randomize search order\n",
    "\n",
    "if(random)\n",
    "    nodeList = shuffle(nodeList_orig)\n",
    "else\n",
    "    nodeList = nodeList_orig\n",
    "end\n",
    "\n",
    "for n1=1:length(nodeList)\n",
    "#   G_options = BayesNet[]\n",
    "    initialScore = logBayesScore(G,data);\n",
    "    score = 1+initialScore; # dummy value to start loop    \n",
    "    while(score > initialScore)\n",
    "        initialScore = logBayesScore(G,data)\n",
    "        scores = Float64[]\n",
    "        nodeChoices = Int[]\n",
    "        for n2 = 1:length(nodeList)            \n",
    "            # Add edge and compute score\n",
    "            if(hasEdge(G,nodeList[n2],nodeList[n1]) == false) \n",
    "                addEdge!(G,nodeList[n2],nodeList[n1])\n",
    "                if(isValid(G))\n",
    "                    localScore = logBayesScore(G,data)\n",
    "#                     println(\"score: $localScore from $(nodeList[n1])<==$(nodeList[n2])\")\n",
    "                    push!(scores,logBayesScore(G,data)) # save score\n",
    "                    push!(nodeChoices,n2)\n",
    "                end\n",
    "                removeEdge!(G,nodeList[n2],nodeList[n1]); # reset back to normal\n",
    "            end\n",
    "        end\n",
    "        optParentIdx = indmax(scores)\n",
    "        score = scores[optParentIdx]\n",
    "        nodeToAdd = nodeChoices[optParentIdx]\n",
    "        if(score > initialScore)\n",
    "            println(\"Adding score to $(nodeList[n1]): $score from parent: $(nodeList[nodeToAdd])\")\n",
    "            println(\"$(nodeList[n1]) <=== $(nodeList[nodeToAdd]) \")\n",
    "            addEdge!(G,nodeList[nodeToAdd],nodeList[n1])\n",
    "        end\n",
    "    end\n",
    "end"
   ]
  },
  {
   "cell_type": "code",
   "execution_count": 180,
   "metadata": {
    "collapsed": false,
    "scrolled": true
   },
   "outputs": [
    {
     "data": {
      "text/plain": [
       "-27701.391903116644"
      ]
     },
     "execution_count": 180,
     "metadata": {},
     "output_type": "execute_result"
    }
   ],
   "source": [
    "testB = BayesNet([:A,:B,:C,:D,:E]);\n",
    "addEdge!(testB,:A,:B);\n",
    "parents(testB,:B)\n",
    "logBayesScore(G,data)\n"
   ]
  },
  {
   "cell_type": "code",
   "execution_count": 53,
   "metadata": {
    "collapsed": false
   },
   "outputs": [
    {
     "name": "stdout",
     "output_type": "stream",
     "text": [
      "! I can't find file `tikzlibrarygraphdrawing.code.tex'.\n",
      "<argument> ...e `\\|=12 \\input tikzlibrary\\pgf@temp .code.tex \n",
      "                                                  \\catcode `\\@ =\\csname tikz...\n",
      "l.4 \\usetikzlibrary{graphdrawing}\n",
      "                               \n",
      "Please type another input file name: \n",
      "! Emergency stop.\n",
      "<argument> ...e `\\|=12 \\input tikzlibrary\\pgf@temp .code.tex \n",
      "                                                  \\catcode `\\@ =\\csname tikz...\n",
      "l.4 \\usetikzlibrary{graphdrawing}\n",
      "                               \n",
      "End of file on the terminal!\n",
      "\n",
      "\n",
      "\n",
      "Here is how much of LuaTeX's memory you used:\n",
      " 22460 strings out of 494814\n",
      " 100000,552014 words of node,token memory allocated 277 words of node memory still in use:\n",
      "   2 hlist, 1 rule, 1 kern, 2 attribute, 40 glue_spec, 2 attribute_list, 4 if_st\n",
      "ack, 1 write, 1 dir, 1 pdf_colorstack nodes\n",
      "   avail lists: 2:13,3:1,4:1,6:2,7:1,9:2\n",
      " 25361 multiletter control sequences out of 65536+600000\n",
      " 20 fonts using 1227903 bytes\n",
      " 63i,0n,57p,421b,85s stack positions out of 5000i,500n,10000p,200000b,100000s\n",
      "!  ==> Fatal error occurred, no output PDF file produced!\n",
      "\n",
      "Error saving as SVG\n"
     ]
    },
    {
     "ename": "ErrorException",
     "evalue": "LaTeX error",
     "output_type": "error",
     "traceback": [
      "LaTeX error",
      "",
      " in save at /home/sunil/.julia/v0.3/TikzPictures/src/TikzPictures.jl:152",
      " in save at /home/sunil/.julia/v0.3/TikzPictures/src/TikzPictures.jl:200",
      " in writemime at /home/sunil/.julia/v0.3/TikzPictures/src/TikzPictures.jl:232",
      " in sprint at iostream.jl:229",
      " in display_dict at /home/sunil/.julia/v0.3/IJulia/src/execute_request.jl:29"
     ]
    }
   ],
   "source": [
    "using TikzGraphs\n",
    "using TikzPictures\n",
    "using Graphs\n",
    "g = simple_graph(4)\n",
    "add_edge!(g, 1, 2)\n",
    "add_edge!(g, 2, 3)\n",
    "add_edge!(g, 3, 4)\n",
    "add_edge!(g, 1, 4)\n",
    "TikzGraphs.plot(g) # You can just use plot(g) if TikzGraphs was loaded after Graphs\n"
   ]
  }
 ],
 "metadata": {
  "kernelspec": {
   "display_name": "Julia 0.3.11",
   "language": "julia",
   "name": "julia-0.3"
  },
  "language_info": {
   "file_extension": ".jl",
   "mimetype": "application/julia",
   "name": "julia",
   "version": "0.3.11"
  }
 },
 "nbformat": 4,
 "nbformat_minor": 0
}
